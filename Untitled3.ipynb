{
  "nbformat": 4,
  "nbformat_minor": 0,
  "metadata": {
    "colab": {
      "name": "Untitled3.ipynb",
      "provenance": [],
      "authorship_tag": "ABX9TyP1KrWSMn1Mf2A8MG893Br3",
      "include_colab_link": true
    },
    "kernelspec": {
      "name": "python3",
      "display_name": "Python 3"
    },
    "language_info": {
      "name": "python"
    }
  },
  "cells": [
    {
      "cell_type": "markdown",
      "metadata": {
        "id": "view-in-github",
        "colab_type": "text"
      },
      "source": [
        "<a href=\"https://colab.research.google.com/github/Atefgalal/Atefgalal/blob/main/Untitled3.ipynb\" target=\"_parent\"><img src=\"https://colab.research.google.com/assets/colab-badge.svg\" alt=\"Open In Colab\"/></a>"
      ]
    },
    {
      "cell_type": "code",
      "metadata": {
        "id": "cFROCRIb5fWn"
      },
      "source": [
        ""
      ],
      "execution_count": null,
      "outputs": []
    },
    {
      "cell_type": "markdown",
      "metadata": {
        "id": "UnPLbW2I50UM"
      },
      "source": [
        "# Introduction to colab\n",
        "- text/code cell\n",
        "- code snippt\n",
        "- autocomplete\n",
        "- share\n",
        "- exporting\n"
      ]
    },
    {
      "cell_type": "markdown",
      "metadata": {
        "id": "IXU47N8N6zoY"
      },
      "source": [
        ""
      ]
    }
  ]
}